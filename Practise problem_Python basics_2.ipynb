{
 "cells": [
  {
   "cell_type": "code",
   "execution_count": 7,
   "id": "1e1b4e1a",
   "metadata": {},
   "outputs": [
    {
     "name": "stdout",
     "output_type": "stream",
     "text": [
      "Enter the string value:assembly\n",
      "a = 1\n",
      "s = 2\n",
      "e = 1\n",
      "m = 1\n",
      "b = 1\n",
      "l = 1\n",
      "y = 1\n"
     ]
    }
   ],
   "source": [
    "#Write a python program to accept a string value from the user and display the count of each character in that string\n",
    "s=input('Enter the string value:')\n",
    "c={}\n",
    "for i in s:\n",
    "    if i in c:\n",
    "        c[i]+=1\n",
    "    else:\n",
    "        c[i]=1\n",
    "for key in c:\n",
    "    print(key,'=',c[key])\n"
   ]
  },
  {
   "cell_type": "code",
   "execution_count": 27,
   "id": "a03b08cc",
   "metadata": {},
   "outputs": [
    {
     "name": "stdout",
     "output_type": "stream",
     "text": [
      "34\n"
     ]
    }
   ],
   "source": [
    "#Write a python function to find the maximum of three numbers.\n",
    "x=34,12,7\n",
    "def maximum(x):\n",
    "    return(max(x))\n",
    "m=maximum(x)\n",
    "print(m)\n",
    "\n"
   ]
  },
  {
   "cell_type": "code",
   "execution_count": 17,
   "id": "f88c745d",
   "metadata": {},
   "outputs": [
    {
     "name": "stdout",
     "output_type": "stream",
     "text": [
      "Enter the base:2\n",
      "Enter the exponent:3\n",
      "8\n"
     ]
    }
   ],
   "source": [
    "#Write a python function called exponent(base,exp) that returns an integer value of base raises to the power of of exp.\n",
    "base=int(input('Enter the base:'))\n",
    "exp=int(input('Enter the exponent:'))\n",
    "def exponent(base,exp):\n",
    "    return(base**exp)\n",
    "e=exponent(base,exp)\n",
    "print(e) "
   ]
  },
  {
   "cell_type": "code",
   "execution_count": 33,
   "id": "24314c91",
   "metadata": {},
   "outputs": [
    {
     "data": {
      "text/plain": [
       "36"
      ]
     },
     "execution_count": 33,
     "metadata": {},
     "output_type": "execute_result"
    }
   ],
   "source": [
    "#Write a python function that takes a positive integer and returns the sum of the cube of all positive integers smaller than the specified number.\n",
    "def sum_of_cubes(n):\n",
    "    n-=1\n",
    "    sum=0\n",
    "    while n>0:\n",
    "        sum+=n*n*n\n",
    "        n-=1\n",
    "    return sum\n",
    "sum_of_cubes(4)\n"
   ]
  },
  {
   "cell_type": "code",
   "execution_count": 44,
   "id": "6b753c93",
   "metadata": {},
   "outputs": [
    {
     "name": "stdout",
     "output_type": "stream",
     "text": [
      "1\n",
      "Fizz\n",
      "3\n",
      "Fizz\n",
      "Buzz\n",
      "Fizz\n",
      "7\n",
      "Fizz\n",
      "9\n",
      "FizzBuzz\n"
     ]
    }
   ],
   "source": [
    "#Write a program which iterates from 1 to 10.For multiplies of 2, print \"Fizz\" instead of the number and for the multiplies of 5, print \"Buzz\".For numbers which are multiplies of both 2 and 5, print \"FizzBuzz\".\n",
    "for num in range(1,11):\n",
    "    if num%5==0 and num%2==0:\n",
    "        print('FizzBuzz')\n",
    "    elif num%2==0:\n",
    "        print('Fizz')\n",
    "    elif num%5==0:\n",
    "        print('Buzz')\n",
    "    else:\n",
    "        print(num)\n",
    "       "
   ]
  },
  {
   "cell_type": "code",
   "execution_count": 69,
   "id": "116b0c4b",
   "metadata": {},
   "outputs": [
    {
     "name": "stdout",
     "output_type": "stream",
     "text": [
      "2\n"
     ]
    }
   ],
   "source": [
    "#Write a python program to find the most frequent item in a list of numbers.\n",
    "x=[2,3,4,2,5,2]\n",
    "count=0\n",
    "n=x[i]\n",
    "for i in x:\n",
    "    curr_frequency=x.count(i)\n",
    "    if  curr_frequency>count:\n",
    "        count=curr_frequency\n",
    "        n=i\n",
    "print(i)"
   ]
  },
  {
   "cell_type": "code",
   "execution_count": 68,
   "id": "2c0cf32c",
   "metadata": {},
   "outputs": [
    {
     "name": "stdout",
     "output_type": "stream",
     "text": [
      "15\n"
     ]
    }
   ],
   "source": [
    "#Write a python program to find the sum of squares of the number in a list.\n",
    "n=[2,1,3,1]\n",
    "sum=0\n",
    "for i in n:\n",
    "    sum+=i*i\n",
    "print(sum)\n"
   ]
  },
  {
   "cell_type": "code",
   "execution_count": 72,
   "id": "b1494566",
   "metadata": {},
   "outputs": [
    {
     "name": "stdout",
     "output_type": "stream",
     "text": [
      "1 -odd\n",
      "2 -even\n",
      "3 -odd\n",
      "4 -even\n",
      "5 -odd\n",
      "6 -even\n",
      "7 -odd\n",
      "8 -even\n",
      "9 -odd\n",
      "10 -even\n",
      "11 -odd\n",
      "12 -even\n",
      "13 -odd\n",
      "14 -even\n",
      "15 -odd\n"
     ]
    }
   ],
   "source": [
    "#Write a python program using for loop that will iterate from 1 to 15.for each iteration,check if the current number is odd or even, and display thhe message to the screen as odd or even.\n",
    "for num in range(1,16):\n",
    "    if num%2==0:\n",
    "        print(num,'-even')\n",
    "    else:\n",
    "        print(num,'-odd')"
   ]
  },
  {
   "cell_type": "code",
   "execution_count": 78,
   "id": "11393856",
   "metadata": {},
   "outputs": [
    {
     "name": "stdout",
     "output_type": "stream",
     "text": [
      "Temperature in Celsius: 5\n"
     ]
    }
   ],
   "source": [
    "#Write a python program to convert temperatures to and from Celsius Fahrenheit.[Formula:c/5=f-32/9 where c=temperature in Celsius and f=temperature  in Fahrenheit.]\n",
    "f=41\n",
    "c=int((f-32)*5/9)\n",
    "print('Temperature in Celsius:',c)\n"
   ]
  },
  {
   "cell_type": "code",
   "execution_count": 87,
   "id": "d6db4898",
   "metadata": {},
   "outputs": [
    {
     "data": {
      "text/plain": [
       "6"
      ]
     },
     "execution_count": 87,
     "metadata": {},
     "output_type": "execute_result"
    }
   ],
   "source": [
    "#Write a python function to calculate the factorial of a number(non negative integer).The function accepts at a argument.\n",
    "def Factorial(n):\n",
    "    fact=1\n",
    "    for i in range(1,n+1):\n",
    "        fact=fact*i\n",
    "    return fact\n",
    "Factorial(3)\n"
   ]
  },
  {
   "cell_type": "code",
   "execution_count": null,
   "id": "929a8017",
   "metadata": {},
   "outputs": [],
   "source": [
    "\n",
    "        "
   ]
  }
 ],
 "metadata": {
  "kernelspec": {
   "display_name": "Python 3 (ipykernel)",
   "language": "python",
   "name": "python3"
  },
  "language_info": {
   "codemirror_mode": {
    "name": "ipython",
    "version": 3
   },
   "file_extension": ".py",
   "mimetype": "text/x-python",
   "name": "python",
   "nbconvert_exporter": "python",
   "pygments_lexer": "ipython3",
   "version": "3.11.5"
  }
 },
 "nbformat": 4,
 "nbformat_minor": 5
}
